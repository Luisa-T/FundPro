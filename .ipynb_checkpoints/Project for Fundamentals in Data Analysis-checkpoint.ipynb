{
 "cells": [
  {
   "cell_type": "markdown",
   "metadata": {},
   "source": [
    "## Problem statement\n",
    "\n",
    "This notebook will aim to investigate and answer the following problem statement and points outlined below:\n",
    "\n",
    "1. I will investigate and explain box plots and what they are used for.\n",
    "\n",
    "I will use the Python package matplotlib.pyplot to create these boxplots.\n",
    "\n",
    "2. I will summarise the history of the box plot and situations in which they are used.\n",
    "\n",
    "3. Demonstrate the use of the box plot using a specific dataset.\n",
    "\n",
    "4. I will attempt to explain the related terminology such as percentile and quartile.\n",
    "\n",
    "5. Finally I will compare box plots to alternatives which can be used."
   ]
  },
  {
   "cell_type": "markdown",
   "metadata": {},
   "source": [
    "## 1. Explaining boxplots and their usage"
   ]
  },
  {
   "cell_type": "markdown",
   "metadata": {},
   "source": [
    "Box plots are used in descriptive statistics to show numerical data using their quartiles [1]. When using box plots it is also possible to use lines also called whiskers which are used to indicate variability outside the upper and lower quartiles [1].  Due to this box plots are sometimes also referred to as box-and-whisker plots or box-and-whisker diagramms [1]. \n",
    "\n",
    "Box plots show the variation in samples of a statistical population but they do not make any assumptions of the statistical distribution [1]. If there are any outliers they are usually displayed as individual points [1]. Spread and skewness of the data are displayed using spacing between the different boxes [1]. They can be displayed vertically or horizontally and they allow the statistician to visually estimate various L-estimators such as the interquartile range, midhinge, range, mid-range and trimean [1].\n",
    "\n",
    "The simplest box plot the first and third quartile are the ends of the boxes (also called interquartile range), inside the rectangle the median is displayed as a band within and the whiskers display the maximum and minimum [1,2].\n",
    "It is \"a standardized way of displaying the distribution of data based on the five number summary: minimum, first quartile, median, third quartile, and maximum.\" [2]\n",
    "\n",
    "The ends of the whiskers can display numerous data types, such as:\n",
    "- the maximum and minimum of all of the data[1] \n",
    "- the highest datum still within 1.5 IQR of the upper quartile, and the lowest datum still within 1.5 IQR of the lower quartile (often referred to as the Tukey boxplot) [1]\n",
    "- the standard deviation below and above the mean of the data [1]\n",
    "- the 9th percentile and the 91st percentile\n",
    "- the 2nd percentile and the 98th percentile.\n",
    "- anything outside of the whiskers is an outlier and is often displayed as a dot, circle, or star [1].\n",
    "- some box plots include an additional character to represent the mean of the data.[2]\n",
    "- Sometimes you can also see a crosshatch placed on each whisker, before the end of the whisker. [2]\n",
    "- Occasionally, box plots may also be displayed without whiskers. [2]\n",
    "\n",
    "Due to this variance of use of the box plot it is recommended to describe the convention used for outliers and whiskers in the plot caption. [2]\n",
    "\n",
    "If the data is normally distributed, the unusual percentiles 2%, 9%, 91%, 98% are occasionally used for whisker cross-hatches and whisker ends to display the seven-number summary, then the seven marks are equally spaced on the box plot. [2]"
   ]
  },
  {
   "cell_type": "markdown",
   "metadata": {},
   "source": [
    "## 2. Summary of the history of the box plot and where it is used"
   ]
  },
  {
   "cell_type": "markdown",
   "metadata": {},
   "source": [
    "The box plot was first used by the mathematician John W. Tukey in 1969 in order to visually display data [1].\n",
    "Box plots are helpful when it is necessary to quickly graphically examine one or more datasets [1]. Box plots display data similar to histograms [4].\n",
    "Advantages of the box plot include:\n",
    "\n",
    "- They use less space\n",
    "- Due to this they are useful to compare distributions between several groups or sets of data\n",
    "\n",
    "Box plots are often used in explanatory data analysis. [5]\n",
    "\"The reason for this is that many natural phenomena can be approximately described by a normal distribution. And for normal distributions, the mean and standard deviation are the best measures of centre and spread respectively.\"[5]"
   ]
  },
  {
   "cell_type": "markdown",
   "metadata": {},
   "source": [
    "## 3. Demonstrating the use of the boxplot with a specific dataset"
   ]
  },
  {
   "cell_type": "code",
   "execution_count": 1,
   "metadata": {},
   "outputs": [
    {
     "ename": "ValueError",
     "evalue": "Dimensions of labels and X must be compatible",
     "output_type": "error",
     "traceback": [
      "\u001b[1;31m--------------------------------------------------------------------------\u001b[0m",
      "\u001b[1;31mValueError\u001b[0m                               Traceback (most recent call last)",
      "\u001b[1;32m<ipython-input-1-5340cad3c880>\u001b[0m in \u001b[0;36m<module>\u001b[1;34m()\u001b[0m\n\u001b[0;32m     13\u001b[0m \u001b[1;31m#code to compute the statistics of the boxplot\u001b[0m\u001b[1;33m\u001b[0m\u001b[1;33m\u001b[0m\u001b[0m\n\u001b[0;32m     14\u001b[0m \u001b[1;33m\u001b[0m\u001b[0m\n\u001b[1;32m---> 15\u001b[1;33m \u001b[0mstats\u001b[0m \u001b[1;33m=\u001b[0m \u001b[0mcbook\u001b[0m\u001b[1;33m.\u001b[0m\u001b[0mboxplot_stats\u001b[0m\u001b[1;33m(\u001b[0m\u001b[0mdata\u001b[0m\u001b[1;33m,\u001b[0m \u001b[0mlabels\u001b[0m\u001b[1;33m=\u001b[0m\u001b[0mlabels\u001b[0m\u001b[1;33m,\u001b[0m \u001b[0mbootstrap\u001b[0m\u001b[1;33m=\u001b[0m\u001b[1;36m9999\u001b[0m\u001b[1;33m)\u001b[0m\u001b[1;33m\u001b[0m\u001b[0m\n\u001b[0m",
      "\u001b[1;32m~\\Anaconda3\\lib\\site-packages\\matplotlib\\cbook\\__init__.py\u001b[0m in \u001b[0;36mboxplot_stats\u001b[1;34m(X, whis, bootstrap, labels, autorange)\u001b[0m\n\u001b[0;32m   1805\u001b[0m         \u001b[0mlabels\u001b[0m \u001b[1;33m=\u001b[0m \u001b[0mrepeat\u001b[0m\u001b[1;33m(\u001b[0m\u001b[1;32mNone\u001b[0m\u001b[1;33m)\u001b[0m\u001b[1;33m\u001b[0m\u001b[0m\n\u001b[0;32m   1806\u001b[0m     \u001b[1;32melif\u001b[0m \u001b[0mlen\u001b[0m\u001b[1;33m(\u001b[0m\u001b[0mlabels\u001b[0m\u001b[1;33m)\u001b[0m \u001b[1;33m!=\u001b[0m \u001b[0mncols\u001b[0m\u001b[1;33m:\u001b[0m\u001b[1;33m\u001b[0m\u001b[0m\n\u001b[1;32m-> 1807\u001b[1;33m         \u001b[1;32mraise\u001b[0m \u001b[0mValueError\u001b[0m\u001b[1;33m(\u001b[0m\u001b[1;34m\"Dimensions of labels and X must be compatible\"\u001b[0m\u001b[1;33m)\u001b[0m\u001b[1;33m\u001b[0m\u001b[0m\n\u001b[0m\u001b[0;32m   1808\u001b[0m \u001b[1;33m\u001b[0m\u001b[0m\n\u001b[0;32m   1809\u001b[0m     \u001b[0minput_whis\u001b[0m \u001b[1;33m=\u001b[0m \u001b[0mwhis\u001b[0m\u001b[1;33m\u001b[0m\u001b[0m\n",
      "\u001b[1;31mValueError\u001b[0m: Dimensions of labels and X must be compatible"
     ]
    }
   ],
   "source": [
    "# I use a fake random dataset to display boxplots\n",
    "\n",
    "# code found on https://matplotlib.org/gallery/statistics/bxp.html?highlight=boxplot\n",
    "import numpy as np\n",
    "import matplotlib.pyplot as plt\n",
    "import matplotlib.cbook as cbook\n",
    "\n",
    "#creating fake data\n",
    "np.random.seed(1806198407)\n",
    "data = np.random.lognormal (size=(45, 6), mean=7.18, sigma=3.21)\n",
    "labels = list('TRSD')\n",
    "\n",
    "#code to compute the statistics of the boxplot\n",
    "\n",
    "stats = cbook.boxplot_stats(data, labels=labels, bootstrap=9999)"
   ]
  },
  {
   "cell_type": "markdown",
   "metadata": {},
   "source": [
    "## 4. Related terminology"
   ]
  },
  {
   "cell_type": "markdown",
   "metadata": {},
   "source": [
    "#### 1. Quartile:\n",
    "\n",
    "The quartile is a type of quantile. The first quartile is describes as the middle number between the median (the second quartile) of the dataset and the smallest number [8]. The third quartile is the value between the highest number in the dataset and the median [8]. It is applied to statistics such as finance, sociology, and epidemiology [8].\n",
    "\n",
    "#### 2. L-estimator: \n",
    "\n",
    "The l-estimator is an estimator, also called L-statistic. This is a linear combination of order statistics of measurements [9]. This can be as many as all points or as little as a single point [9]. L-estimators are beneficial in that they are often robust and extremely simple to use [9]. They are easy to interpret and calculate, and resistant to outliers [9]. Due to these benefits they are useful in robust statitstics such as descriptive statistics, in statistics education and when calculations are difficult [9].\n",
    "\n",
    "#### 3. interquartile range: \n",
    "\n",
    "Also called the midspread or middle 50% in descriptive statistics, the interquartile range is a measure of dispersion. So it is equal to the difference between the upper and lower quartiles or between the 75th and 25th percentiles [10]. The interquartile range is the result of substracting the first from the third quartile [10]. It is usually a robust measure of scale [10].\n",
    "\n",
    "#### 4. midhinge:\n",
    "\n",
    "A midhinge in statistics is the average of the first and third quartiles[11, 12]. It measures location [11, 12]. The midhinge is an L-estimator [11, 12].\n",
    "\n",
    "#### 5. range:\n",
    "\n",
    "The range is the smallest value minus the highest value if the dataset [13, 14]. The range in descriptive statistics is also defined as the size of the smallest interval which includes all the data and gives an indication of statistical dispersion [14]. \n",
    "\n",
    "#### 6.trimean: \n",
    "\n",
    "The trimean sometimes also called the Tukey's trimean is an indicator for the location of probability distribution also defined as the weighted average of the distribution of median an its two quartiles [15]. It is a very efficient estimator of the population mean [15]."
   ]
  },
  {
   "cell_type": "markdown",
   "metadata": {},
   "source": [
    "## Comparing boxplots to alternatives"
   ]
  },
  {
   "cell_type": "markdown",
   "metadata": {},
   "source": [
    "## References\n",
    "\n",
    "[1] Wikipedia https://en.wikipedia.org/wiki/Box_plot\n",
    "\n",
    "[2] Box plot: Display of distribution http://www.physics.csbsju.edu/stats/box2.html\n",
    "\n",
    "[3] Understanding Box Plots: Towards Data Science: https://towardsdatascience.com/understanding-boxplots-5e2df7bcbd51\n",
    "\n",
    "[4] Box-and-Whisker Plot: http://mathworld.wolfram.com/Box-and-WhiskerPlot.html\n",
    "\n",
    "[5] Statistics Power from Data! Box and Whisker Plots: https://www150.statcan.gc.ca/n1/edu/power-pouvoir/ch12/5214889-eng.htm\n",
    "\n",
    "[6] What is a box plot and when to use it: https://chartio.com/resources/tutorials/what-is-a-box-plot/\n",
    "\n",
    "[7] Box plots: http://onlinestatbook.com/2/graphing_distributions/boxplots.html\n",
    "\n",
    "[8] Quartile: https://en.wikipedia.org/wiki/Quartile\n",
    "\n",
    "[9] L-estimator: https://en.wikipedia.org/wiki/L-estimator\n",
    "\n",
    "[10] Interquartile range: https://en.wikipedia.org/wiki/Interquartile_range\n",
    "\n",
    "[11] Wikipedia Midhinge: https://en.wikipedia.org/wiki/Midhinge\n",
    "\n",
    "[12] What is the Midhinge in Statistics?: https://www.thoughtco.com/what-is-the-midhinge-3126246\n",
    "\n",
    "[13] How do you find the range in box plots?: https://socratic.org/questions/how-do-you-find-the-range-in-box-plots\n",
    "\n",
    "[14] Range (statistics): https://en.wikipedia.org/wiki/Range_(statistics)\n",
    "\n",
    "[15] Trimean - Wikipedia: https://en.wikipedia.org/wiki/Trimean"
   ]
  },
  {
   "cell_type": "markdown",
   "metadata": {},
   "source": [
    "## END"
   ]
  }
 ],
 "metadata": {
  "kernelspec": {
   "display_name": "Python 3",
   "language": "python",
   "name": "python3"
  },
  "language_info": {
   "codemirror_mode": {
    "name": "ipython",
    "version": 3
   },
   "file_extension": ".py",
   "mimetype": "text/x-python",
   "name": "python",
   "nbconvert_exporter": "python",
   "pygments_lexer": "ipython3",
   "version": "3.6.5"
  }
 },
 "nbformat": 4,
 "nbformat_minor": 2
}

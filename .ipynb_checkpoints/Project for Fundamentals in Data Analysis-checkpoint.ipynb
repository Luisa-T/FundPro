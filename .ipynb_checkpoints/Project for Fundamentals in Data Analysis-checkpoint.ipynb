{
 "cells": [
  {
   "cell_type": "markdown",
   "metadata": {},
   "source": [
    "This notebook will aim to investigate and answer the following problem statement and points outlined below:\n",
    "\n",
    "1. I will investigate and explain box plots and what they are used for.\n",
    "\n",
    "I will use the Python package matplotlib.pyplot to create these boxplots.\n",
    "\n",
    "2. I will summarise the history of the box plot and situations in which they are used.\n",
    "\n",
    "3. Demonstrate the use of the box plot using a specific dataset.\n",
    "\n",
    "4. I will ttempt to explain the related terminology such as percentile and quartile.\n",
    "\n",
    "5. Finally I will compare box plots to alternatives which can be used."
   ]
  }
 ],
 "metadata": {
  "kernelspec": {
   "display_name": "Python 3",
   "language": "python",
   "name": "python3"
  },
  "language_info": {
   "codemirror_mode": {
    "name": "ipython",
    "version": 3
   },
   "file_extension": ".py",
   "mimetype": "text/x-python",
   "name": "python",
   "nbconvert_exporter": "python",
   "pygments_lexer": "ipython3",
   "version": "3.6.5"
  }
 },
 "nbformat": 4,
 "nbformat_minor": 2
}

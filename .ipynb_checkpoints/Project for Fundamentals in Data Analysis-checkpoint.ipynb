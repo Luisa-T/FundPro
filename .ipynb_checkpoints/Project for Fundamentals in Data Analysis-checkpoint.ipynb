{
 "cells": [
  {
   "cell_type": "markdown",
   "metadata": {},
   "source": [
    "## Problem statement\n",
    "\n",
    "This notebook will aim to investigate and answer the following problem statement and points outlined below:\n",
    "\n",
    "1. I will investigate and explain box plots and what they are used for.\n",
    "\n",
    "I will use the Python package matplotlib.pyplot to create these boxplots.\n",
    "\n",
    "2. I will summarise the history of the box plot and situations in which they are used.\n",
    "\n",
    "3. Demonstrate the use of the box plot using a specific dataset.\n",
    "\n",
    "4. I will attempt to explain the related terminology such as percentile and quartile.\n",
    "\n",
    "5. Finally I will compare box plots to alternatives which can be used."
   ]
  },
  {
   "cell_type": "markdown",
   "metadata": {},
   "source": [
    "## 1. Explaining boxplots and their usage"
   ]
  },
  {
   "cell_type": "markdown",
   "metadata": {},
   "source": [
    "Box plots are used in descriptive statistics to show numerical data using their quartiles [1]. When using box plots it is also possible to use lines also called whiskers which are used to indicate variability outside the upper and lower quartiles [1].  Due to this box plots are sometimes also referred to as box-and-whisker plots or box-and-whisker diagramms [1]. \n",
    "\n",
    "Box plots show the variation in samples of a statistical population but they do not make any assumptions of the statistical distribution [1]. If there are any outliers they are usually displayed as individual points [1]. Spread and skewness of the data are displayed using spacing between the different boxes [1]. They can be displayed vertically or horizontally and they allow the statistician to visually estimate various L-estimators such as the interquartile range, midhinge, range, mid-range and trimean [1].\n",
    "\n",
    "The simplest box plot is the one where the first and third quartile are the ends of the boxes (also called interquartile range), inside the rectangle the median is displayed as a band within and the whiskers display the maximum and minimum [1,2].\n",
    "It is \"a standardized way of displaying the distribution of data based on the five number summary: minimum, first quartile, median, third quartile, and maximum.\" [2]\n",
    "\n",
    "The ends of the whiskers can display numerous data types, such as:\n",
    "- the maximum and minimum of all of the data[1] \n",
    "- the highest datum still within 1.5 IQR of the upper quartile, and the lowest datum still within 1.5 IQR of the lower quartile (often referred to as the Tukey boxplot) [1]\n",
    "- the standard deviation below and above the mean of the data [1]\n",
    "- the 9th percentile and the 91st percentile\n",
    "- the 2nd percentile and the 98th percentile.\n",
    "- anything outside of the whiskers is an outlier and is often displayed as a dot, circle, or star [1].\n",
    "- some box plots include an additional character to represent the mean of the data.[2]\n",
    "- Sometimes you can also see a crosshatch placed on each whisker, before the end of the whisker. [2]\n",
    "- Occasionally, box plots may also be displayed without whiskers. [2]\n",
    "\n",
    "Due to this variance of use of the box plot it is recommended to describe the convention used for outliers and whiskers in the plot caption. [2]\n",
    "\n",
    "If the data is normally distributed, the unusual percentiles 2%, 9%, 91%, 98% are occasionally used for whisker cross-hatches and whisker ends to display the seven-number summary, then the seven marks are equally spaced on the box plot. [2]"
   ]
  },
  {
   "cell_type": "markdown",
   "metadata": {},
   "source": [
    "## 2. Summary of the history of the box plot and where it is used"
   ]
  },
  {
   "cell_type": "markdown",
   "metadata": {},
   "source": [
    "The box plot was first used by the mathematician John W. Tukey in 1969 in order to visually display data [1].\n",
    "Box plots are helpful when it is necessary to quickly graphically examine one or more datasets [1]. Box plots display data similar to histograms [4].\n",
    "Advantages of the box plot include:\n",
    "\n",
    "- They use less space\n",
    "- Due to this they are useful to compare distributions between several groups or sets of data\n",
    "\n",
    "Box plots are often used in explanatory data analysis. [5]\n",
    "\"The reason for this is that many natural phenomena can be approximately described by a normal distribution. And for normal distributions, the mean and standard deviation are the best measures of centre and spread respectively.\"[5]"
   ]
  },
  {
   "cell_type": "markdown",
   "metadata": {},
   "source": [
    "## 3. Demonstrating the use of the boxplot with a specific dataset"
   ]
  },
  {
   "cell_type": "code",
   "execution_count": 3,
   "metadata": {},
   "outputs": [
    {
     "data": {
      "text/plain": [
       "<function matplotlib.pyplot.show(*args, **kw)>"
      ]
     },
     "execution_count": 3,
     "metadata": {},
     "output_type": "execute_result"
    },
    {
     "data": {
      "image/png": "[encoded data removed]",
      "text/plain": [
       "<Figure size 432x288 with 6 Axes>"
      ]
     },
     "metadata": {},
     "output_type": "display_data"
    },
    {
     "data": {
      "image/png": "[encoded data removed]",
      "text/plain": [
       "<Figure size 432x288 with 1 Axes>"
      ]
     },
     "metadata": {},
     "output_type": "display_data"
    }
   ],
   "source": [
    "# I use a fake random dataset to display boxplots\n",
    "\n",
    "# code found on https://matplotlib.org/gallery/statistics/boxplot_demo.html?highlight=boxplot\n",
    "import numpy as np\n",
    "import matplotlib.pyplot as plt\n",
    "from matplotlib.patches import Polygon\n",
    "\n",
    "#creating fake data\n",
    "np.random.seed(1806198407)\n",
    "\n",
    "spread = np.random.rand(10) * 200\n",
    "center = np.ones(45) * 50\n",
    "flier_high = np.random.rand(18) * 90 + 134\n",
    "flier_low = np.random.rand(18) * -90\n",
    "data = np.concatenate((spread, center, flier_high, flier_low))\n",
    "\n",
    "# adding instructions for the display of the plots\n",
    "fig, axs = plt.subplots(3, 2)\n",
    "\n",
    "# the following will create a basic plot\n",
    "axs[0, 0].boxplot(data)\n",
    "axs[0, 0].set_title('basic plot')\n",
    "\n",
    "# the following will create a notched plot\n",
    "axs[0, 1].boxplot(data, 1)\n",
    "axs[0, 1].set_title('notched plot')\n",
    "\n",
    "# this changes the symbols used for the outliers\n",
    "axs[1, 0].boxplot(data, 0, 'gD')\n",
    "axs[1, 0].set_title('changeing the outlier/npoint symbols')\n",
    "\n",
    "# ignore the outliers of the data\n",
    "axs[1, 1].boxplot(data, 0, '')\n",
    "axs[1, 1].set_title('not showing outlier points')\n",
    "\n",
    "# horizontally arranged boxplots\n",
    "axs[2, 0].boxplot(data, 0, 'rs', 0)\n",
    "axs[2, 0].set_title('horizontal boxes')\n",
    "\n",
    "# changing the length of the whiskers\n",
    "axs[2, 1].boxplot(data, 0, 'rs', 0, 0.75)\n",
    "axs[2, 1].set_title('different whisker length')\n",
    "\n",
    "fig.subplots_adjust(left=1.3, right=2, bottom=2, top=3, hspace=1, wspace=2)\n",
    "\n",
    "# simulating some more data\n",
    "spread = np.random.rand(55) * 100\n",
    "center = np.ones(33) * 44\n",
    "flier_high = np.random.rand(12) * 110 + 92\n",
    "flier_low = np.random.rand(12) * -110\n",
    "d2 = np.concatenate((spread, center, flier_high, flier_low))\n",
    "data.shape = (-1, 1)\n",
    "d2.shape = (-1, 1)\n",
    "data = data, d2, d2[::2, 0]\n",
    "\n",
    "# displaying multiple boxplots on one axes\n",
    "fig, ax = plt.subplots()\n",
    "ax.boxplot(data)\n",
    "\n",
    "plt.show"
   ]
  },
  {
   "cell_type": "markdown",
   "metadata": {},
   "source": [
    "\n",
    "## 4. Related terminology"
   ]
  },
  {
   "cell_type": "markdown",
   "metadata": {},
   "source": [
    "#### 1. Quartile:\n",
    "\n",
    "The quartile is a type of quantile. The first quartile is describes as the middle number between the median (the second quartile) of the dataset and the smallest number [8]. The third quartile is the value between the highest number in the dataset and the median [8]. It is applied to statistics such as finance, sociology, and epidemiology [8].\n",
    "\n",
    "#### 2. L-estimator: \n",
    "\n",
    "The L-estimator is an estimator, also called L-statistic. This is a linear combination of order statistics of measurements [9]. This can be as many as all points or as little as a single point [9]. L-estimators are beneficial in that they are often robust and extremely simple to use [9]. They are easy to interpret and calculate, and resistant to outliers [9]. Due to these benefits they are useful in robust statitstics such as descriptive statistics, in statistics education and when calculations are difficult [9].\n",
    "\n",
    "#### 3. interquartile range: \n",
    "\n",
    "Also called the midspread or middle 50% in descriptive statistics, the interquartile range is a measure of dispersion. So it is equal to the difference between the upper and lower quartiles or between the 75th and 25th percentiles [10]. The interquartile range is the result of substracting the first from the third quartile [10]. It is usually a robust measure of scale [10].\n",
    "\n",
    "#### 4. midhinge:\n",
    "\n",
    "A midhinge in statistics is the average of the first and third quartiles[11, 12]. It measures location [11, 12]. The midhinge is an L-estimator [11, 12].\n",
    "\n",
    "#### 5. range:\n",
    "\n",
    "The range is the smallest value minus the highest value if the dataset [13, 14]. The range in descriptive statistics is also defined as the size of the smallest interval which includes all the data and gives an indication of statistical dispersion [14]. \n",
    "\n",
    "#### 6.trimean: \n",
    "\n",
    "The trimean sometimes also called the Tukey's trimean is an indicator for the location of probability distribution also defined as the weighted average of the distribution of median an its two quartiles [15]. It is a very efficient estimator of the population mean [15]."
   ]
  },
  {
   "cell_type": "markdown",
   "metadata": {},
   "source": [
    "## Comparing boxplots to alternatives"
   ]
  },
  {
   "cell_type": "code",
   "execution_count": 21,
   "metadata": {},
   "outputs": [
    {
     "data": {
      "image/png": "[encoded data removed]",
      "text/plain": [
       "<Figure size 720x360 with 2 Axes>"
      ]
     },
     "metadata": {},
     "output_type": "display_data"
    },
    {
     "data": {
      "text/plain": [
       "<function matplotlib.pyplot.show(*args, **kw)>"
      ]
     },
     "execution_count": 21,
     "metadata": {},
     "output_type": "execute_result"
    },
    {
     "data": {
      "image/png": "[encoded data removed]",
      "text/plain": [
       "<Figure size 432x288 with 1 Axes>"
      ]
     },
     "metadata": {},
     "output_type": "display_data"
    }
   ],
   "source": [
    "# code found https://matplotlib.org/gallery/statistics/boxplot_vs_violin.html?highlight=plot\n",
    "import matplotlib.pyplot as plt\n",
    "import numpy as np\n",
    "\n",
    "fig, axes = plt.subplots(nrows=1, ncols=2, figsize=(10, 5))\n",
    "\n",
    "# in order to be able to reproduce this the following fixes the random state\n",
    "np.random.seed(34224553)\n",
    "\n",
    "# generating fake test data\n",
    "all_data =[np.random.normal(1, std, 111) for std in range (3, 12)]\n",
    "\n",
    "# violin plot\n",
    "axes[0].violinplot(all_data,\n",
    "                  showmeans=False,\n",
    "                  showmedians=True)\n",
    "axes[0].set_title('Violin Plot')\n",
    "\n",
    "# box plot\n",
    "axes[1].boxplot(all_data)\n",
    "axes[1].set_title('Box plot')\n",
    "    \n",
    "# add x-tick labels\n",
    "plt.setp(axes, xticks=[y + 1 for y in range(len(all_data))]),\n",
    "plt.show()\n",
    "\n",
    "plt.hist(all_data)\n",
    "plt.show\n"
   ]
  },
  {
   "cell_type": "markdown",
   "metadata": {},
   "source": [
    "Box plots and violin plots are very similar but with the violin plot it is easier to see where the data is skewed since the string part of the plot shows where there is a higher number of results by being thicker. On the other hand, with the boxplot it is easier to see where there are outliers, which are not displayed separately in the violin plot. The histogram seems to be the best choice for the dataset because it is easy to see where the highest number of results is and outliers can be also seen at each side of the distribution. The historgram seems to suggest a Laplace distribution in this case. Each of these have their advantages and disadvantages. I would suggest from my research into this topic to use more than one plot to see get a better picture of the dataset. Otherwise, it is very easy to make incorrect assumptions."
   ]
  },
  {
   "cell_type": "markdown",
   "metadata": {},
   "source": [
    "## References\n",
    "\n",
    "[1] Wikipedia https://en.wikipedia.org/wiki/Box_plot\n",
    "\n",
    "[2] Box plot: Display of distribution http://www.physics.csbsju.edu/stats/box2.html\n",
    "\n",
    "[3] Understanding Box Plots: Towards Data Science: https://towardsdatascience.com/understanding-boxplots-5e2df7bcbd51\n",
    "\n",
    "[4] Box-and-Whisker Plot: http://mathworld.wolfram.com/Box-and-WhiskerPlot.html\n",
    "\n",
    "[5] Statistics Power from Data! Box and Whisker Plots: https://www150.statcan.gc.ca/n1/edu/power-pouvoir/ch12/5214889-eng.htm\n",
    "\n",
    "[6] What is a box plot and when to use it: https://chartio.com/resources/tutorials/what-is-a-box-plot/\n",
    "\n",
    "[7] Box plots: http://onlinestatbook.com/2/graphing_distributions/boxplots.html\n",
    "\n",
    "[8] Quartile: https://en.wikipedia.org/wiki/Quartile\n",
    "\n",
    "[9] L-estimator: https://en.wikipedia.org/wiki/L-estimator\n",
    "\n",
    "[10] Interquartile range: https://en.wikipedia.org/wiki/Interquartile_range\n",
    "\n",
    "[11] Wikipedia Midhinge: https://en.wikipedia.org/wiki/Midhinge\n",
    "\n",
    "[12] What is the Midhinge in Statistics?: https://www.thoughtco.com/what-is-the-midhinge-3126246\n",
    "\n",
    "[13] How do you find the range in box plots?: https://socratic.org/questions/how-do-you-find-the-range-in-box-plots\n",
    "\n",
    "[14] Range (statistics): https://en.wikipedia.org/wiki/Range_(statistics)\n",
    "\n",
    "[15] Trimean - Wikipedia: https://en.wikipedia.org/wiki/Trimean"
   ]
  },
  {
   "cell_type": "markdown",
   "metadata": {},
   "source": [
    "## END"
   ]
  }
 ],
 "metadata": {
  "kernelspec": {
   "display_name": "Python 3",
   "language": "python",
   "name": "python3"
  },
  "language_info": {
   "codemirror_mode": {
    "name": "ipython",
    "version": 3
   },
   "file_extension": ".py",
   "mimetype": "text/x-python",
   "name": "python",
   "nbconvert_exporter": "python",
   "pygments_lexer": "ipython3",
   "version": "3.6.5"
  }
 },
 "nbformat": 4,
 "nbformat_minor": 2
}
